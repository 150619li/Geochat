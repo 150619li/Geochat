{
 "cells": [
  {
   "cell_type": "markdown",
   "metadata": {},
   "source": [
    "# POST/GET请求以及如何在Android Studio中调用的示例"
   ]
  },
  {
   "cell_type": "markdown",
   "metadata": {},
   "source": [
    "以下是所有HTTP指令的格式说明，包括注册用户、登录账号、创建群聊、获取群聊消息、发送消息、添加成员和删除成员。\n",
    "\n",
    "### 1. 注册用户\n",
    "\n",
    "**URL**: `http://localhost:5000/api/users/register`  \n",
    "**Method**: `POST`  \n",
    "**Headers**: \n"
   ]
  },
  {
   "cell_type": "code",
   "execution_count": null,
   "metadata": {
    "vscode": {
     "languageId": "http"
    }
   },
   "outputs": [],
   "source": [
    "Content-Type: application/json"
   ]
  },
  {
   "cell_type": "markdown",
   "metadata": {},
   "source": [
    "**Body**:\n"
   ]
  },
  {
   "cell_type": "code",
   "execution_count": null,
   "metadata": {
    "vscode": {
     "languageId": "json"
    }
   },
   "outputs": [],
   "source": [
    "{\n",
    "  \"username\": \"testuser\",\n",
    "  \"email\": \"testuser@example.com\",\n",
    "  \"password\": \"testpassword\"\n",
    "}"
   ]
  },
  {
   "cell_type": "markdown",
   "metadata": {},
   "source": [
    "\n",
    "\n",
    "### 2. 登录账号\n",
    "\n",
    "**URL**: `http://localhost:5000/api/users/login`  \n",
    "**Method**: `POST`  \n",
    "**Headers**: \n"
   ]
  },
  {
   "cell_type": "code",
   "execution_count": null,
   "metadata": {
    "vscode": {
     "languageId": "http"
    }
   },
   "outputs": [],
   "source": [
    "Content-Type: application/json"
   ]
  },
  {
   "cell_type": "markdown",
   "metadata": {},
   "source": [
    "**Body**:\n"
   ]
  },
  {
   "cell_type": "code",
   "execution_count": null,
   "metadata": {
    "vscode": {
     "languageId": "json"
    }
   },
   "outputs": [],
   "source": [
    "{\n",
    "  \"email\": \"testuser@example.com\",\n",
    "  \"password\": \"testpassword\"\n",
    "}"
   ]
  },
  {
   "cell_type": "markdown",
   "metadata": {},
   "source": [
    "\n",
    "\n",
    "### 3. 创建群聊\n",
    "\n",
    "**URL**: `http://localhost:5000/api/groups/create`  \n",
    "**Method**: `POST`  \n",
    "**Headers**: \n"
   ]
  },
  {
   "cell_type": "code",
   "execution_count": null,
   "metadata": {
    "vscode": {
     "languageId": "http"
    }
   },
   "outputs": [],
   "source": [
    "Content-Type: application/json"
   ]
  },
  {
   "cell_type": "markdown",
   "metadata": {},
   "source": [
    "**Body**:\n"
   ]
  },
  {
   "cell_type": "code",
   "execution_count": null,
   "metadata": {
    "vscode": {
     "languageId": "json"
    }
   },
   "outputs": [],
   "source": [
    "{\n",
    "  \"name\": \"Test Group\",\n",
    "  \"members\": [\"60d5f9b5f1d2c72a3c8e4b1a\", \"60d5f9b5f1d2c72a3c8e4b1b\"]\n",
    "}"
   ]
  },
  {
   "cell_type": "markdown",
   "metadata": {},
   "source": [
    "\n",
    "\n",
    "### 4. 获取群聊消息\n",
    "\n",
    "**URL**: `http://localhost:5000/api/groups/{groupId}/messages`  \n",
    "**Method**: `GET`  \n",
    "**Headers**: \n"
   ]
  },
  {
   "cell_type": "code",
   "execution_count": null,
   "metadata": {
    "vscode": {
     "languageId": "http"
    }
   },
   "outputs": [],
   "source": [
    "Content-Type: application/json"
   ]
  },
  {
   "cell_type": "markdown",
   "metadata": {},
   "source": [
    "**Body**: 无\n",
    "\n",
    "### 5. 发送消息\n",
    "\n",
    "**URL**: `http://localhost:5000/api/groups/{groupId}/messages`  \n",
    "**Method**: `POST`  \n",
    "**Headers**: \n"
   ]
  },
  {
   "cell_type": "code",
   "execution_count": null,
   "metadata": {
    "vscode": {
     "languageId": "http"
    }
   },
   "outputs": [],
   "source": [
    "Content-Type: application/json"
   ]
  },
  {
   "cell_type": "markdown",
   "metadata": {},
   "source": [
    "**Body**:\n"
   ]
  },
  {
   "cell_type": "code",
   "execution_count": null,
   "metadata": {
    "vscode": {
     "languageId": "json"
    }
   },
   "outputs": [],
   "source": [
    "{\n",
    "  \"sender\": \"60d5f9b5f1d2c72a3c8e4b1a\",\n",
    "  \"content\": \"Hello, this is a test message.\"\n",
    "}"
   ]
  },
  {
   "cell_type": "markdown",
   "metadata": {},
   "source": [
    "\n",
    "\n",
    "### 6. 添加成员\n",
    "\n",
    "**URL**: `http://localhost:5000/api/groups/{groupId}/addMember`  \n",
    "**Method**: `POST`  \n",
    "**Headers**: \n"
   ]
  },
  {
   "cell_type": "code",
   "execution_count": null,
   "metadata": {
    "vscode": {
     "languageId": "http"
    }
   },
   "outputs": [],
   "source": [
    "Content-Type: application/json"
   ]
  },
  {
   "cell_type": "markdown",
   "metadata": {},
   "source": [
    "**Body**:\n"
   ]
  },
  {
   "cell_type": "code",
   "execution_count": null,
   "metadata": {
    "vscode": {
     "languageId": "json"
    }
   },
   "outputs": [],
   "source": [
    "{\n",
    "  \"memberId\": \"60d5f9b5f1d2c72a3c8e4b1a\"\n",
    "}"
   ]
  },
  {
   "cell_type": "markdown",
   "metadata": {},
   "source": [
    "\n",
    "\n",
    "### 7. 删除成员\n",
    "\n",
    "**URL**: `http://localhost:5000/api/groups/{groupId}/removeMember`  \n",
    "**Method**: `POST`  \n",
    "**Headers**: \n"
   ]
  },
  {
   "cell_type": "code",
   "execution_count": null,
   "metadata": {
    "vscode": {
     "languageId": "http"
    }
   },
   "outputs": [],
   "source": [
    "Content-Type: application/json"
   ]
  },
  {
   "cell_type": "markdown",
   "metadata": {},
   "source": [
    "**Body**:\n"
   ]
  },
  {
   "cell_type": "code",
   "execution_count": null,
   "metadata": {
    "vscode": {
     "languageId": "json"
    }
   },
   "outputs": [],
   "source": [
    "{\n",
    "  \"memberId\": \"60d5f9b5f1d2c72a3c8e4b1a\"\n",
    "}"
   ]
  },
  {
   "cell_type": "markdown",
   "metadata": {},
   "source": [
    "\n",
    "\n",
    "### 完整的 \n",
    "\n",
    "app.js\n",
    "\n",
    " 文件\n",
    "\n",
    "确保在 \n",
    "\n",
    "app.js\n",
    "\n",
    " 文件中正确配置了所有路由：\n",
    "\n"
   ]
  },
  {
   "cell_type": "code",
   "execution_count": null,
   "metadata": {
    "vscode": {
     "languageId": "javascript"
    }
   },
   "outputs": [],
   "source": [
    "const express = require('express');\n",
    "const mongoose = require('mongoose');\n",
    "const userRouter = require('./routes/user');\n",
    "const groupRouter = require('./routes/group');\n",
    "require('dotenv').config();\n",
    "\n",
    "const app = express();\n",
    "const port = process.env.PORT || 3001;\n",
    "\n",
    "// 中间件\n",
    "app.use(express.json());\n",
    "\n",
    "// 连接MongoDB\n",
    "mongoose.connect(process.env.MONGODB_URI, { useNewUrlParser: true, useUnifiedTopology: true })\n",
    "  .then(() => console.log('Connected to MongoDB'))\n",
    "  .catch(err => console.error('Could not connect to MongoDB', err));\n",
    "\n",
    "// 路由\n",
    "app.use('/api/users', userRouter);\n",
    "app.use('/api/groups', groupRouter);\n",
    "\n",
    "// 启动服务器\n",
    "app.listen(port, () => {\n",
    "  console.log(`Server is running on port ${port}`);\n",
    "});"
   ]
  },
  {
   "attachments": {
    "image.png": {
     "image/png": "[encoded data removed]"
    }
   },
   "cell_type": "markdown",
   "metadata": {},
   "source": [
    "使用POSTMAN测试\n",
    "![image.png](attachment:image.png)"
   ]
  },
  {
   "cell_type": "markdown",
   "metadata": {},
   "source": [
    "为了在安卓端调用你的API并实现用户登录、注册、发送消息和展示消息的功能，你可以使用Retrofit库来进行网络请求。以下是具体步骤：\n",
    "\n",
    "### 1. 添加Retrofit依赖\n",
    "\n",
    "在你的`build.gradle`文件中添加Retrofit和Gson依赖：\n",
    "\n"
   ]
  },
  {
   "cell_type": "code",
   "execution_count": null,
   "metadata": {
    "vscode": {
     "languageId": "groovy"
    }
   },
   "outputs": [],
   "source": [
    "implementation 'com.squareup.retrofit2:retrofit:2.9.0'\n",
    "implementation 'com.squareup.retrofit2:converter-gson:2.9.0'"
   ]
  },
  {
   "cell_type": "markdown",
   "metadata": {},
   "source": [
    "\n",
    "\n",
    "### 2. 创建API接口\n",
    "\n",
    "定义一个接口来描述与后端API的交互。\n",
    "\n",
    "`ApiService.java`：\n"
   ]
  },
  {
   "cell_type": "code",
   "execution_count": null,
   "metadata": {
    "vscode": {
     "languageId": "java"
    }
   },
   "outputs": [],
   "source": [
    "import retrofit2.Call;\n",
    "import retrofit2.http.Body;\n",
    "import retrofit2.http.GET;\n",
    "import retrofit2.http.POST;\n",
    "import retrofit2.http.Path;\n",
    "\n",
    "public interface ApiService {\n",
    "    @POST(\"/api/users/register\")\n",
    "    Call<Void> registerUser(@Body User user);\n",
    "\n",
    "    @POST(\"/api/users/login\")\n",
    "    Call<LoginResponse> loginUser(@Body LoginRequest loginRequest);\n",
    "\n",
    "    @POST(\"/api/groups/create\")\n",
    "    Call<Void> createGroup(@Body Group group);\n",
    "\n",
    "    @GET(\"/api/groups/{groupId}/messages\")\n",
    "    Call<List<Message>> getGroupMessages(@Path(\"groupId\") String groupId);\n",
    "\n",
    "    @POST(\"/api/groups/{groupId}/messages\")\n",
    "    Call<Void> sendMessage(@Path(\"groupId\") String groupId, @Body Message message);\n",
    "\n",
    "    @POST(\"/api/groups/{groupId}/addMember\")\n",
    "    Call<Void> addMember(@Path(\"groupId\") String groupId, @Body MemberRequest memberRequest);\n",
    "\n",
    "    @POST(\"/api/groups/{groupId}/removeMember\")\n",
    "    Call<Void> removeMember(@Path(\"groupId\") String groupId, @Body MemberRequest memberRequest);\n",
    "}"
   ]
  },
  {
   "cell_type": "markdown",
   "metadata": {},
   "source": [
    "\n",
    "\n",
    "### 3. 创建Retrofit实例\n",
    "\n",
    "创建一个Retrofit实例来执行网络请求。\n",
    "\n",
    "`ApiClient.java`：\n"
   ]
  },
  {
   "cell_type": "code",
   "execution_count": null,
   "metadata": {
    "vscode": {
     "languageId": "java"
    }
   },
   "outputs": [],
   "source": [
    "import retrofit2.Retrofit;\n",
    "import retrofit2.converter.gson.GsonConverterFactory;\n",
    "\n",
    "public class ApiClient {\n",
    "    private static final String BASE_URL = \"http://localhost:3001\";\n",
    "    private static Retrofit retrofit;\n",
    "\n",
    "    public static Retrofit getRetrofitInstance() {\n",
    "        if (retrofit == null) {\n",
    "            retrofit = new Retrofit.Builder()\n",
    "                    .baseUrl(BASE_URL)\n",
    "                    .addConverterFactory(GsonConverterFactory.create())\n",
    "                    .build();\n",
    "        }\n",
    "        return retrofit;\n",
    "    }\n",
    "}"
   ]
  },
  {
   "cell_type": "markdown",
   "metadata": {},
   "source": [
    "\n",
    "\n",
    "### 4. 创建数据模型\n",
    "\n",
    "创建数据模型类来表示用户、登录请求、群聊、消息等。\n",
    "\n",
    "`User.java`：\n"
   ]
  },
  {
   "cell_type": "code",
   "execution_count": null,
   "metadata": {
    "vscode": {
     "languageId": "java"
    }
   },
   "outputs": [],
   "source": [
    "public class User {\n",
    "    private String username;\n",
    "    private String email;\n",
    "    private String password;\n",
    "\n",
    "    // Constructors, getters, and setters\n",
    "}"
   ]
  },
  {
   "cell_type": "markdown",
   "metadata": {},
   "source": [
    "\n",
    "\n",
    "`LoginRequest.java`：\n"
   ]
  },
  {
   "cell_type": "code",
   "execution_count": null,
   "metadata": {
    "vscode": {
     "languageId": "java"
    }
   },
   "outputs": [],
   "source": [
    "public class LoginRequest {\n",
    "    private String email;\n",
    "    private String password;\n",
    "\n",
    "    // Constructors, getters, and setters\n",
    "}"
   ]
  },
  {
   "cell_type": "markdown",
   "metadata": {},
   "source": [
    "\n",
    "\n",
    "`LoginResponse.java`：\n"
   ]
  },
  {
   "cell_type": "code",
   "execution_count": null,
   "metadata": {
    "vscode": {
     "languageId": "java"
    }
   },
   "outputs": [],
   "source": [
    "public class LoginResponse {\n",
    "    private String token;\n",
    "\n",
    "    // Constructors, getters, and setters\n",
    "}"
   ]
  },
  {
   "cell_type": "markdown",
   "metadata": {},
   "source": [
    "\n",
    "\n",
    "`Group.java`：\n"
   ]
  },
  {
   "cell_type": "code",
   "execution_count": null,
   "metadata": {
    "vscode": {
     "languageId": "java"
    }
   },
   "outputs": [],
   "source": [
    "public class Group {\n",
    "    private String name;\n",
    "    private List<String> members;\n",
    "\n",
    "    // Constructors, getters, and setters\n",
    "}"
   ]
  },
  {
   "cell_type": "markdown",
   "metadata": {},
   "source": [
    "\n",
    "\n",
    "`Message.java`：\n"
   ]
  },
  {
   "cell_type": "code",
   "execution_count": null,
   "metadata": {
    "vscode": {
     "languageId": "java"
    }
   },
   "outputs": [],
   "source": [
    "public class Message {\n",
    "    private String sender;\n",
    "    private String content;\n",
    "\n",
    "    // Constructors, getters, and setters\n",
    "}"
   ]
  },
  {
   "cell_type": "markdown",
   "metadata": {},
   "source": [
    "\n",
    "\n",
    "`MemberRequest.java`：\n"
   ]
  },
  {
   "cell_type": "code",
   "execution_count": null,
   "metadata": {
    "vscode": {
     "languageId": "java"
    }
   },
   "outputs": [],
   "source": [
    "public class MemberRequest {\n",
    "    private String memberId;\n",
    "\n",
    "    // Constructors, getters, and setters\n",
    "}"
   ]
  },
  {
   "cell_type": "markdown",
   "metadata": {},
   "source": [
    "\n",
    "\n",
    "### 5. 实现用户登录和注册界面\n",
    "\n",
    "在你的Activity中使用Retrofit进行网络请求。\n",
    "\n",
    "`LoginActivity.java`：\n"
   ]
  },
  {
   "cell_type": "code",
   "execution_count": null,
   "metadata": {
    "vscode": {
     "languageId": "java"
    }
   },
   "outputs": [],
   "source": [
    "import android.os.Bundle;\n",
    "import android.widget.Button;\n",
    "import android.widget.EditText;\n",
    "import android.widget.Toast;\n",
    "import androidx.appcompat.app.AppCompatActivity;\n",
    "import retrofit2.Call;\n",
    "import retrofit2.Callback;\n",
    "import retrofit2.Response;\n",
    "\n",
    "public class LoginActivity extends AppCompatActivity {\n",
    "    private ApiService apiService;\n",
    "\n",
    "    @Override\n",
    "    protected void onCreate(Bundle savedInstanceState) {\n",
    "        super.onCreate(savedInstanceState);\n",
    "        setContentView(R.layout.activity_login);\n",
    "\n",
    "        apiService = ApiClient.getRetrofitInstance().create(ApiService.class);\n",
    "\n",
    "        EditText emailEditText = findViewById(R.id.email);\n",
    "        EditText passwordEditText = findViewById(R.id.password);\n",
    "        Button loginButton = findViewById(R.id.login_button);\n",
    "\n",
    "        loginButton.setOnClickListener(v -> {\n",
    "            String email = emailEditText.getText().toString();\n",
    "            String password = passwordEditText.getText().toString();\n",
    "            loginUser(email, password);\n",
    "        });\n",
    "    }\n",
    "\n",
    "    private void loginUser(String email, String password) {\n",
    "        LoginRequest loginRequest = new LoginRequest(email, password);\n",
    "        apiService.loginUser(loginRequest).enqueue(new Callback<LoginResponse>() {\n",
    "            @Override\n",
    "            public void onResponse(Call<LoginResponse> call, Response<LoginResponse> response) {\n",
    "                if (response.isSuccessful()) {\n",
    "                    String token = response.body().getToken();\n",
    "                    // Save token and navigate to the next screen\n",
    "                    Toast.makeText(LoginActivity.this, \"Login successful\", Toast.LENGTH_SHORT).show();\n",
    "                } else {\n",
    "                    Toast.makeText(LoginActivity.this, \"Login failed\", Toast.LENGTH_SHORT).show();\n",
    "                }\n",
    "            }\n",
    "\n",
    "            @Override\n",
    "            public void onFailure(Call<LoginResponse> call, Throwable t) {\n",
    "                Toast.makeText(LoginActivity.this, \"Network error\", Toast.LENGTH_SHORT).show();\n",
    "            }\n",
    "        });\n",
    "    }\n",
    "}"
   ]
  },
  {
   "cell_type": "markdown",
   "metadata": {},
   "source": [
    "\n",
    "\n",
    "`RegisterActivity.java`：\n"
   ]
  },
  {
   "cell_type": "code",
   "execution_count": null,
   "metadata": {
    "vscode": {
     "languageId": "java"
    }
   },
   "outputs": [],
   "source": [
    "import android.os.Bundle;\n",
    "import android.widget.Button;\n",
    "import android.widget.EditText;\n",
    "import android.widget.Toast;\n",
    "import androidx.appcompat.app.AppCompatActivity;\n",
    "import retrofit2.Call;\n",
    "import retrofit2.Callback;\n",
    "import retrofit2.Response;\n",
    "\n",
    "public class RegisterActivity extends AppCompatActivity {\n",
    "    private ApiService apiService;\n",
    "\n",
    "    @Override\n",
    "    protected void onCreate(Bundle savedInstanceState) {\n",
    "        super.onCreate(savedInstanceState);\n",
    "        setContentView(R.layout.activity_register);\n",
    "\n",
    "        apiService = ApiClient.getRetrofitInstance().create(ApiService.class);\n",
    "\n",
    "        EditText usernameEditText = findViewById(R.id.username);\n",
    "        EditText emailEditText = findViewById(R.id.email);\n",
    "        EditText passwordEditText = findViewById(R.id.password);\n",
    "        Button registerButton = findViewById(R.id.register_button);\n",
    "\n",
    "        registerButton.setOnClickListener(v -> {\n",
    "            String username = usernameEditText.getText().toString();\n",
    "            String email = emailEditText.getText().toString();\n",
    "            String password = passwordEditText.getText().toString();\n",
    "            registerUser(username, email, password);\n",
    "        });\n",
    "    }\n",
    "\n",
    "    private void registerUser(String username, String email, String password) {\n",
    "        User user = new User(username, email, password);\n",
    "        apiService.registerUser(user).enqueue(new Callback<Void>() {\n",
    "            @Override\n",
    "            public void onResponse(Call<Void> call, Response<Void> response) {\n",
    "                if (response.isSuccessful()) {\n",
    "                    Toast.makeText(RegisterActivity.this, \"Registration successful\", Toast.LENGTH_SHORT).show();\n",
    "                    // Navigate to login screen\n",
    "                } else {\n",
    "                    Toast.makeText(RegisterActivity.this, \"Registration failed\", Toast.LENGTH_SHORT).show();\n",
    "                }\n",
    "            }\n",
    "\n",
    "            @Override\n",
    "            public void onFailure(Call<Void> call, Throwable t) {\n",
    "                Toast.makeText(RegisterActivity.this, \"Network error\", Toast.LENGTH_SHORT).show();\n",
    "            }\n",
    "        });\n",
    "    }\n",
    "}"
   ]
  },
  {
   "cell_type": "markdown",
   "metadata": {},
   "source": [
    "\n",
    "\n",
    "### 6. 实现消息界面\n",
    "\n",
    "在你的Activity中使用Retrofit获取和发送消息。\n",
    "\n",
    "`ChatActivity.java`：\n"
   ]
  },
  {
   "cell_type": "code",
   "execution_count": null,
   "metadata": {
    "vscode": {
     "languageId": "java"
    }
   },
   "outputs": [],
   "source": [
    "import android.os.Bundle;\n",
    "import android.widget.Button;\n",
    "import android.widget.EditText;\n",
    "import android.widget.ListView;\n",
    "import android.widget.Toast;\n",
    "import androidx.appcompat.app.AppCompatActivity;\n",
    "import java.util.List;\n",
    "import retrofit2.Call;\n",
    "import retrofit2.Callback;\n",
    "import retrofit2.Response;\n",
    "\n",
    "public class ChatActivity extends AppCompatActivity {\n",
    "    private ApiService apiService;\n",
    "    private String groupId;\n",
    "    private String userId;\n",
    "    private ListView messagesListView;\n",
    "    private MessagesAdapter messagesAdapter;\n",
    "\n",
    "    @Override\n",
    "    protected void onCreate(Bundle savedInstanceState) {\n",
    "        super.onCreate(savedInstanceState);\n",
    "        setContentView(R.layout.activity_chat);\n",
    "\n",
    "        apiService = ApiClient.getRetrofitInstance().create(ApiService.class);\n",
    "\n",
    "        groupId = getIntent().getStringExtra(\"GROUP_ID\");\n",
    "        userId = getIntent().getStringExtra(\"USER_ID\");\n",
    "\n",
    "        messagesListView = findViewById(R.id.messages_list_view);\n",
    "        messagesAdapter = new MessagesAdapter(this, R.layout.message_item);\n",
    "        messagesListView.setAdapter(messagesAdapter);\n",
    "\n",
    "        EditText messageEditText = findViewById(R.id.message_edit_text);\n",
    "        Button sendButton = findViewById(R.id.send_button);\n",
    "\n",
    "        sendButton.setOnClickListener(v -> {\n",
    "            String content = messageEditText.getText().toString();\n",
    "            sendMessage(content);\n",
    "        });\n",
    "\n",
    "        loadMessages();\n",
    "    }\n",
    "\n",
    "    private void loadMessages() {\n",
    "        apiService.getGroupMessages(groupId).enqueue(new Callback<List<Message>>() {\n",
    "            @Override\n",
    "            public void onResponse(Call<List<Message>> call, Response<List<Message>> response) {\n",
    "                if (response.isSuccessful()) {\n",
    "                    List<Message> messages = response.body();\n",
    "                    messagesAdapter.clear();\n",
    "                    messagesAdapter.addAll(messages);\n",
    "                } else {\n",
    "                    Toast.makeText(ChatActivity.this, \"Failed to load messages\", Toast.LENGTH_SHORT).show();\n",
    "                }\n",
    "            }\n",
    "\n",
    "            @Override\n",
    "            public void onFailure(Call<List<Message>> call, Throwable t) {\n",
    "                Toast.makeText(ChatActivity.this, \"Network error\", Toast.LENGTH_SHORT).show();\n",
    "            }\n",
    "        });\n",
    "    }\n",
    "\n",
    "    private void sendMessage(String content) {\n",
    "        Message message = new Message(userId, content);\n",
    "        apiService.sendMessage(groupId, message).enqueue(new Callback<Void>() {\n",
    "            @Override\n",
    "            public void onResponse(Call<Void> call, Response<Void> response) {\n",
    "                if (response.isSuccessful()) {\n",
    "                    loadMessages();\n",
    "                    Toast.makeText(ChatActivity.this, \"Message sent\", Toast.LENGTH_SHORT).show();\n",
    "                } else {\n",
    "                    Toast.makeText(ChatActivity.this, \"Failed to send message\", Toast.LENGTH_SHORT).show();\n",
    "                }\n",
    "            }\n",
    "\n",
    "            @Override\n",
    "            public void onFailure(Call<Void> call, Throwable t) {\n",
    "                Toast.makeText(ChatActivity.this, \"Network error\", Toast.LENGTH_SHORT).show();\n",
    "            }\n",
    "        });\n",
    "    }\n",
    "}"
   ]
  },
  {
   "cell_type": "markdown",
   "metadata": {},
   "source": [
    "\n",
    "\n",
    "### 7. 创建消息适配器\n",
    "\n",
    "创建一个适配器来显示消息列表。\n",
    "\n",
    "`MessagesAdapter.java`：\n"
   ]
  },
  {
   "cell_type": "code",
   "execution_count": null,
   "metadata": {
    "vscode": {
     "languageId": "java"
    }
   },
   "outputs": [],
   "source": [
    "import android.content.Context;\n",
    "import android.view.LayoutInflater;\n",
    "import android.view.View;\n",
    "import android.view.ViewGroup;\n",
    "import android.widget.ArrayAdapter;\n",
    "import android.widget.TextView;\n",
    "import java.util.List;\n",
    "\n",
    "public class MessagesAdapter extends ArrayAdapter<Message> {\n",
    "    private int resource;\n",
    "\n",
    "    public MessagesAdapter(Context context, int resource) {\n",
    "        super(context, resource);\n",
    "        this.resource = resource;\n",
    "    }\n",
    "\n",
    "    @Override\n",
    "    public View getView(int position, View convertView, ViewGroup parent) {\n",
    "        Message message = getItem(position);\n",
    "        if (convertView == null) {\n",
    "            convertView = LayoutInflater.from(getContext()).inflate(resource, parent, false);\n",
    "        }\n",
    "\n",
    "        TextView senderTextView = convertView.findViewById(R.id.sender_text_view);\n",
    "        TextView contentTextView = convertView.findViewById(R.id.content_text_view);\n",
    "\n",
    "        senderTextView.setText(message.getSender());\n",
    "        contentTextView.setText(message.getContent());\n",
    "\n",
    "        return convertView;\n",
    "    }\n",
    "}"
   ]
  },
  {
   "cell_type": "markdown",
   "metadata": {},
   "source": [
    "\n",
    "\n",
    "### 8. 创建布局文件\n",
    "\n",
    "创建相应的布局文件来实现用户界面。\n",
    "\n",
    "`activity_login.xml`：\n"
   ]
  },
  {
   "cell_type": "code",
   "execution_count": null,
   "metadata": {
    "vscode": {
     "languageId": "xml"
    }
   },
   "outputs": [],
   "source": [
    "<LinearLayout xmlns:android=\"http://schemas.android.com/apk/res/android\"\n",
    "    android:layout_width=\"match_parent\"\n",
    "    android:layout_height=\"match_parent\"\n",
    "    android:orientation=\"vertical\"\n",
    "    android:padding=\"16dp\">\n",
    "\n",
    "    <EditText\n",
    "        android:id=\"@+id/email\"\n",
    "        android:layout_width=\"match_parent\"\n",
    "        android:layout_height=\"wrap_content\"\n",
    "        android:hint=\"Email\" />\n",
    "\n",
    "    <EditText\n",
    "        android:id=\"@+id/password\"\n",
    "        android:layout_width=\"match_parent\"\n",
    "        android:layout_height=\"wrap_content\"\n",
    "        android:hint=\"Password\"\n",
    "        android:inputType=\"textPassword\" />\n",
    "\n",
    "    <Button\n",
    "        android:id=\"@+id/login_button\"\n",
    "        android:layout_width=\"match_parent\"\n",
    "        android:layout_height=\"wrap_content\"\n",
    "        android:text=\"Login\" />\n",
    "</LinearLayout>"
   ]
  },
  {
   "cell_type": "markdown",
   "metadata": {},
   "source": [
    "\n",
    "\n",
    "`activity_register.xml`：\n"
   ]
  },
  {
   "cell_type": "code",
   "execution_count": null,
   "metadata": {
    "vscode": {
     "languageId": "xml"
    }
   },
   "outputs": [],
   "source": [
    "<LinearLayout xmlns:android=\"http://schemas.android.com/apk/res/android\"\n",
    "    android:layout_width=\"match_parent\"\n",
    "    android:layout_height=\"match_parent\"\n",
    "    android:orientation=\"vertical\"\n",
    "    android:padding=\"16dp\">\n",
    "\n",
    "    <EditText\n",
    "        android:id=\"@+id/username\"\n",
    "        android:layout_width=\"match_parent\"\n",
    "        android:layout_height=\"wrap_content\"\n",
    "        android:hint=\"Username\" />\n",
    "\n",
    "    <EditText\n",
    "        android:id=\"@+id/email\"\n",
    "        android:layout_width=\"match_parent\"\n",
    "        android:layout_height=\"wrap_content\"\n",
    "        android:hint=\"Email\" />\n",
    "\n",
    "    <EditText\n",
    "        android:id=\"@+id/password\"\n",
    "        android:layout_width=\"match_parent\"\n",
    "        android:layout_height=\"wrap_content\"\n",
    "        android:hint=\"Password\"\n",
    "        android:inputType=\"textPassword\" />\n",
    "\n",
    "    <Button\n",
    "        android:id=\"@+id/register_button\"\n",
    "        android:layout_width=\"match_parent\"\n",
    "        android:layout_height=\"wrap_content\"\n",
    "        android:text=\"Register\" />\n",
    "</LinearLayout>"
   ]
  },
  {
   "cell_type": "markdown",
   "metadata": {},
   "source": [
    "\n",
    "\n",
    "`activity_chat.xml`：\n"
   ]
  },
  {
   "cell_type": "code",
   "execution_count": null,
   "metadata": {
    "vscode": {
     "languageId": "xml"
    }
   },
   "outputs": [],
   "source": [
    "<LinearLayout xmlns:android=\"http://schemas.android.com/apk/res/android\"\n",
    "    android:layout_width=\"match_parent\"\n",
    "    android:layout_height=\"match_parent\"\n",
    "    android:orientation=\"vertical\"\n",
    "    android:padding=\"16dp\">\n",
    "\n",
    "    <ListView\n",
    "        android:id=\"@+id/messages_list_view\"\n",
    "        android:layout_width=\"match_parent\"\n",
    "        android:layout_height=\"0dp\"\n",
    "        android:layout_weight=\"1\" />\n",
    "\n",
    "    <LinearLayout\n",
    "        android:layout_width=\"match_parent\"\n",
    "        android:layout_height=\"wrap_content\"\n",
    "        android:orientation=\"horizontal\">\n",
    "\n",
    "        <EditText\n",
    "            android:id=\"@+id/message_edit_text\"\n",
    "            android:layout_width=\"0dp\"\n",
    "            android:layout_height=\"wrap_content\"\n",
    "            android:layout_weight=\"1\"\n",
    "            android:hint=\"Type a message\" />\n",
    "\n",
    "        <Button\n",
    "            android:id=\"@+id/send_button\"\n",
    "            android:layout_width=\"wrap_content\"\n",
    "            android:layout_height=\"wrap_content\"\n",
    "            android:text=\"Send\" />\n",
    "    </LinearLayout>\n",
    "</LinearLayout>"
   ]
  },
  {
   "cell_type": "markdown",
   "metadata": {},
   "source": [
    "\n",
    "\n",
    "`message_item.xml`：\n"
   ]
  },
  {
   "cell_type": "code",
   "execution_count": null,
   "metadata": {
    "vscode": {
     "languageId": "xml"
    }
   },
   "outputs": [],
   "source": [
    "<LinearLayout xmlns:android=\"http://schemas.android.com/apk/res/android\"\n",
    "    android:layout_width=\"match_parent\"\n",
    "    android:layout_height=\"wrap_content\"\n",
    "    android:orientation=\"vertical\"\n",
    "    android:padding=\"8dp\">\n",
    "\n",
    "    <TextView\n",
    "        android:id=\"@+id/sender_text_view\"\n",
    "        android:layout_width=\"wrap_content\"\n",
    "        android:layout_height=\"wrap_content\"\n",
    "        android:textStyle=\"bold\" />\n",
    "\n",
    "    <TextView\n",
    "        android:id=\"@+id/content_text_view\"\n",
    "        android:layout_width=\"wrap_content\"\n",
    "        android:layout_height=\"wrap_content\" />\n",
    "</LinearLayout>"
   ]
  },
  {
   "cell_type": "markdown",
   "metadata": {},
   "source": [
    "\n",
    "\n",
    "通过这些步骤，你可以在安卓端实现用户登录、注册、发送消息和展示消息的功能。确保在实际应用中处理好网络请求的错误和异常情况，并根据需要进行进一步的优化和改进。\n",
    "\n",
    "找到具有 1 个许可证类型的类似代码"
   ]
  }
 ],
 "metadata": {
  "language_info": {
   "name": "python"
  }
 },
 "nbformat": 4,
 "nbformat_minor": 2
}
